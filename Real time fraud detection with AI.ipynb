{
 "cells": [
  {
   "cell_type": "code",
   "execution_count": null,
   "metadata": {
    "id": "1aMa1p4uYVLl"
   },
   "outputs": [],
   "source": [
    "import os\n",
    "\n",
    "import numpy as np\n",
    "import pandas as pd\n",
    "import matplotlib.pyplot as plt\n",
    "import seaborn as sns\n",
    "\n",
    "import kagglehub\n",
    "\n",
    "from collections import Counter\n",
    "\n",
    "from sklearn.model_selection import train_test_split, cross_val_score\n",
    "from sklearn.preprocessing import StandardScaler\n",
    "from sklearn.feature_selection import SelectKBest, chi2, RFE\n",
    "from sklearn.utils.class_weight import compute_class_weight\n",
    "\n",
    "from sklearn.ensemble import RandomForestClassifier\n",
    "from sklearn.tree import DecisionTreeClassifier\n",
    "from sklearn.neighbors import KNeighborsClassifier\n",
    "from sklearn.linear_model import LogisticRegression\n",
    "from xgboost import XGBClassifier\n",
    "\n",
    "from sklearn.metrics import (\n",
    "    classification_report,\n",
    "    confusion_matrix,\n",
    "    accuracy_score,\n",
    "    f1_score,\n",
    "    roc_auc_score,\n",
    "    precision_recall_curve\n",
    ")\n",
    "\n",
    "from imblearn.over_sampling import SMOTE"
   ]
  },
  {
   "cell_type": "code",
   "execution_count": null,
   "metadata": {
    "colab": {
     "base_uri": "https://localhost:8080/"
    },
    "id": "rOQ7Sr4SSEdC",
    "outputId": "eb9a4440-774c-4f3c-a846-762cf8f81bb2"
   },
   "outputs": [],
   "source": [
    "!pip install kagglehub pandas\n",
    "!mkdir -p ~/.kaggle\n",
    "!mv kaggle.json ~/.kaggle/\n",
    "!chmod 600 ~/.kaggle/kaggle.json"
   ]
  },
  {
   "cell_type": "code",
   "execution_count": null,
   "metadata": {
    "colab": {
     "base_uri": "https://localhost:8080/"
    },
    "id": "PYdrT56HS8Jv",
    "outputId": "3b9b288a-d1d4-4f22-f050-fd784ad2db29"
   },
   "outputs": [],
   "source": [
    "import os\n",
    "import kagglehub\n",
    "# Download dataset\n",
    "path = kagglehub.dataset_download(\"mlg-ulb/creditcardfraud\")\n",
    "\n",
    "dataset_files = os.listdir(path)\n",
    "print(\"Dataset files:\", dataset_files)\n",
    "\n",
    "# Load CSV file into DataFrame\n",
    "csv_file = [f for f in dataset_files if f.endswith(\".csv\")][0]\n",
    "df = pd.read_csv(os.path.join(path, csv_file))"
   ]
  },
  {
   "cell_type": "code",
   "execution_count": null,
   "metadata": {
    "colab": {
     "base_uri": "https://localhost:8080/",
     "height": 235
    },
    "id": "1XkVL7dGTNvc",
    "outputId": "472ffca1-a108-4b5f-cbd1-d55e7bff4623"
   },
   "outputs": [],
   "source": [
    "df.head()"
   ]
  },
  {
   "cell_type": "code",
   "execution_count": null,
   "metadata": {
    "colab": {
     "base_uri": "https://localhost:8080/"
    },
    "id": "4F_3e3BTTR_a",
    "outputId": "2a740a01-bf9e-460e-a6af-c2b9aa08fdb8"
   },
   "outputs": [],
   "source": [
    "df.info()"
   ]
  },
  {
   "cell_type": "code",
   "execution_count": null,
   "metadata": {
    "colab": {
     "base_uri": "https://localhost:8080/",
     "height": 1000
    },
    "id": "gFkYJ_SPTqxC",
    "outputId": "a65a9301-0246-4be4-c41d-9ad647656e49"
   },
   "outputs": [],
   "source": [
    "df.isna().sum()"
   ]
  },
  {
   "cell_type": "code",
   "execution_count": null,
   "metadata": {
    "colab": {
     "base_uri": "https://localhost:8080/"
    },
    "id": "iZliPRACT1yO",
    "outputId": "7f4f99ea-0032-4e69-c897-798a720ee9d1"
   },
   "outputs": [],
   "source": [
    "duplicates = df[df.duplicated()]\n",
    "print(f\"Number of duplicate rows: {len(duplicates)}\")"
   ]
  },
  {
   "cell_type": "code",
   "execution_count": null,
   "metadata": {
    "colab": {
     "base_uri": "https://localhost:8080/"
    },
    "id": "Y4zXNZXEUy_d",
    "outputId": "5445b855-05ff-4bef-ab69-981082153310"
   },
   "outputs": [],
   "source": [
    "# Remove duplicate rows\n",
    "df_cleaned = df.drop_duplicates()\n",
    "print(f\"Data after removing duplicates: {df_cleaned.shape[0]} rows\")"
   ]
  },
  {
   "cell_type": "code",
   "execution_count": null,
   "metadata": {
    "colab": {
     "base_uri": "https://localhost:8080/"
    },
    "id": "jEPJ3s_cU7Gb",
    "outputId": "ef42f2dc-7fd9-48c6-9def-90ca996544dd"
   },
   "outputs": [],
   "source": [
    "duplicates = df_cleaned[df_cleaned.duplicated()]\n",
    "print(f\"Number of duplicate rows: {len(duplicates)}\")"
   ]
  },
  {
   "cell_type": "code",
   "execution_count": null,
   "metadata": {
    "colab": {
     "base_uri": "https://localhost:8080/",
     "height": 235
    },
    "id": "goAbR1J0VI0l",
    "outputId": "55335d89-9087-4071-ce6a-ab0ca28f52ef"
   },
   "outputs": [],
   "source": [
    "df_cleaned.head()"
   ]
  },
  {
   "cell_type": "code",
   "execution_count": null,
   "metadata": {
    "colab": {
     "base_uri": "https://localhost:8080/",
     "height": 573
    },
    "id": "7kTfdk2uW82p",
    "outputId": "a4ae0a85-94c5-45be-bfed-498741942aa4"
   },
   "outputs": [],
   "source": [
    "sns.set(style=\"whitegrid\")\n",
    "\n",
    "# Plot histogram of 'Amount'\n",
    "plt.figure(figsize=(10, 6))\n",
    "sns.histplot(df_cleaned['Amount'], kde=True, color='blue', bins=50)\n",
    "plt.title('Distribution of Transaction Amount')\n",
    "plt.xlabel('Amount')\n",
    "plt.ylabel('Frequency')\n",
    "plt.show()"
   ]
  },
  {
   "cell_type": "code",
   "execution_count": null,
   "metadata": {
    "colab": {
     "base_uri": "https://localhost:8080/",
     "height": 521
    },
    "id": "TXT8xaCDXAdG",
    "outputId": "7186d78e-1341-4515-b0df-bd47605c0dd9"
   },
   "outputs": [],
   "source": [
    "# Class distribution\n",
    "class_distribution = df_cleaned['Class'].value_counts()\n",
    "\n",
    "plt.figure(figsize=(6, 6))\n",
    "class_distribution.plot.pie(autopct='%1.1f%%', colors=['lightblue', 'salmon'], startangle=90)\n",
    "plt.title('Class Distribution: Fraud (1) vs Non-Fraud (0)')\n",
    "plt.ylabel('')\n",
    "plt.show()"
   ]
  },
  {
   "cell_type": "code",
   "execution_count": null,
   "metadata": {
    "colab": {
     "base_uri": "https://localhost:8080/",
     "height": 902
    },
    "id": "NQYI-TflXDl5",
    "outputId": "3c7dfee8-6938-4a08-e3c2-381b0a19d546"
   },
   "outputs": [],
   "source": [
    "# Compute the correlation matrix\n",
    "correlation_matrix = df_cleaned.corr()\n",
    "\n",
    "# Plot heatmap of feature correlations\n",
    "plt.figure(figsize=(14, 10))\n",
    "sns.heatmap(correlation_matrix, annot=False, cmap='coolwarm', fmt='.2f', linewidths=0.5)\n",
    "plt.title('Correlation Heatmap of Features')\n",
    "plt.show()"
   ]
  },
  {
   "cell_type": "code",
   "execution_count": null,
   "metadata": {
    "colab": {
     "base_uri": "https://localhost:8080/",
     "height": 573
    },
    "id": "MoZ1ZN5xXH60",
    "outputId": "647e1add-11bf-4ffb-89a9-86ff47d943c3"
   },
   "outputs": [],
   "source": [
    "# Plot box plot for 'Amount'\n",
    "plt.figure(figsize=(8, 6))\n",
    "sns.boxplot(x=df_cleaned['Amount'], color='orange')\n",
    "plt.title('Box Plot for Transaction Amount')\n",
    "plt.xlabel('Amount')\n",
    "plt.show()"
   ]
  },
  {
   "cell_type": "code",
   "execution_count": null,
   "metadata": {
    "colab": {
     "base_uri": "https://localhost:8080/",
     "height": 573
    },
    "id": "zvFDdH3DXOte",
    "outputId": "93b97b85-cec5-44e4-c754-4879ccb4f348"
   },
   "outputs": [],
   "source": [
    "# Scatter plot of 'Time' vs 'Amount'\n",
    "plt.figure(figsize=(10, 6))\n",
    "sns.scatterplot(x=df_cleaned['Time'], y=df_cleaned['Amount'], color='purple', alpha=0.6)\n",
    "plt.title('Time vs Transaction Amount')\n",
    "plt.xlabel('Time (in seconds)')\n",
    "plt.ylabel('Transaction Amount')\n",
    "plt.show()"
   ]
  },
  {
   "cell_type": "code",
   "execution_count": null,
   "metadata": {
    "colab": {
     "base_uri": "https://localhost:8080/",
     "height": 663
    },
    "id": "530vTwSfXS46",
    "outputId": "7d05f5bc-637d-4aeb-81f7-797c9e435ba3"
   },
   "outputs": [],
   "source": [
    "# Violin plot of 'Time' distribution by 'Class'\n",
    "plt.figure(figsize=(10, 6))\n",
    "sns.violinplot(x='Class', y='Time', data=df_cleaned, palette='muted')\n",
    "plt.title('Distribution of Time by Fraud Class')\n",
    "plt.xlabel('Class (0 = Non-Fraud, 1 = Fraud)')\n",
    "plt.ylabel('Time (in seconds)')\n",
    "plt.show()"
   ]
  },
  {
   "cell_type": "code",
   "execution_count": null,
   "metadata": {
    "colab": {
     "base_uri": "https://localhost:8080/",
     "height": 663
    },
    "id": "_L4XKdoZXWi0",
    "outputId": "4240074f-6326-4ddc-9ba0-334fba3eb9f8"
   },
   "outputs": [],
   "source": [
    "# Box plot of 'Amount' distribution by 'Class'\n",
    "plt.figure(figsize=(10, 6))\n",
    "sns.boxplot(x='Class', y='Amount', data=df_cleaned, palette='coolwarm')\n",
    "plt.title('Distribution of Transaction Amount by Class')\n",
    "plt.xlabel('Class (0 = Non-Fraud, 1 = Fraud)')\n",
    "plt.ylabel('Amount')\n",
    "plt.show()"
   ]
  },
  {
   "cell_type": "code",
   "execution_count": null,
   "metadata": {
    "colab": {
     "base_uri": "https://localhost:8080/",
     "height": 573
    },
    "id": "rRM9sEzEXYK-",
    "outputId": "ee1039ef-d7d3-45e5-cf4b-f0d760ede93b"
   },
   "outputs": [],
   "source": [
    "# Histogram of 'V1' for both classes (Fraud and Non-Fraud)\n",
    "plt.figure(figsize=(10, 6))\n",
    "sns.histplot(df_cleaned[df_cleaned['Class'] == 0]['V1'], color='blue', kde=True, label='Non-Fraud', bins=50)\n",
    "sns.histplot(df_cleaned[df_cleaned['Class'] == 1]['V1'], color='red', kde=True, label='Fraud', bins=50)\n",
    "plt.title('Distribution of V1 Feature by Fraud Class')\n",
    "plt.xlabel('V1')\n",
    "plt.ylabel('Frequency')\n",
    "plt.legend()\n",
    "plt.show()"
   ]
  },
  {
   "cell_type": "code",
   "execution_count": null,
   "metadata": {
    "colab": {
     "base_uri": "https://localhost:8080/",
     "height": 573
    },
    "id": "IY6CbEwdXfXk",
    "outputId": "91eee62b-7855-4e6d-f7d9-50cde3d779fa"
   },
   "outputs": [],
   "source": [
    "# Histogram of 'Amount' for both classes (Fraud and Non-Fraud)\n",
    "plt.figure(figsize=(10, 6))\n",
    "sns.histplot(df_cleaned[df_cleaned['Class'] == 0]['Amount'], color='lightgreen', kde=True, label='Non-Fraud', bins=50)\n",
    "sns.histplot(df_cleaned[df_cleaned['Class'] == 1]['Amount'], color='lightcoral', kde=True, label='Fraud', bins=50)\n",
    "plt.title('Distribution of Transaction Amount by Class')\n",
    "plt.xlabel('Transaction Amount')\n",
    "plt.ylabel('Frequency')\n",
    "plt.legend()\n",
    "plt.show()"
   ]
  },
  {
   "cell_type": "markdown",
   "metadata": {
    "id": "R9Mgql_YbSdw"
   },
   "source": [
    "**To address the class imbalance in the dataset, I applied SMOTE (Synthetic Minority Over-sampling Technique) to oversample the minority class (fraudulent transactions) and balance the class distribution.**"
   ]
  },
  {
   "cell_type": "code",
   "execution_count": null,
   "metadata": {
    "id": "5vBk2dNMXviR"
   },
   "outputs": [],
   "source": []
  },
  {
   "cell_type": "markdown",
   "metadata": {
    "id": "rDKbRyp1MW1O"
   },
   "source": [
    "# **Feature Importance**"
   ]
  },
  {
   "cell_type": "code",
   "execution_count": null,
   "metadata": {
    "colab": {
     "base_uri": "https://localhost:8080/"
    },
    "id": "5oaYQtGWXz_5",
    "outputId": "34d2ba7e-67e0-4d64-a19f-aa80b47ddb19"
   },
   "outputs": [],
   "source": [
    "# Separate features and target\n",
    "X = df_cleaned.drop(columns=['Class'])\n",
    "y = df_cleaned['Class']\n",
    "\n",
    "# Normalize numerical features\n",
    "scaler = StandardScaler()\n",
    "X_scaled = scaler.fit_transform(X)\n",
    "\n",
    "# SelectKBest (Chi-Square Test)\n",
    "selector = SelectKBest(chi2, k=10)\n",
    "X_new = selector.fit_transform(abs(X_scaled), y)\n",
    "selected_features = X.columns[selector.get_support()]\n",
    "print(\"Top 10 selected features using SelectKBest:\", list(selected_features))"
   ]
  },
  {
   "cell_type": "code",
   "execution_count": null,
   "metadata": {
    "colab": {
     "base_uri": "https://localhost:8080/"
    },
    "id": "-f2DyuUNbGM8",
    "outputId": "4c102c00-ade4-46c7-c1dc-0562c421f296"
   },
   "outputs": [],
   "source": [
    "# Feature Importance using RandomForest\n",
    "model = RandomForestClassifier(random_state=42)\n",
    "model.fit(X_scaled, y)\n",
    "importances = model.feature_importances_\n",
    "feature_importance_df = pd.DataFrame({\"Feature\": X.columns, \"Importance\": importances})\n",
    "feature_importance_df = feature_importance_df.sort_values(by=\"Importance\", ascending=False)\n",
    "print(\"\\nTop features based on RandomForest Importance:\\n\", feature_importance_df.head(10))"
   ]
  },
  {
   "cell_type": "code",
   "execution_count": null,
   "metadata": {
    "colab": {
     "base_uri": "https://localhost:8080/"
    },
    "id": "vcCSa27Uddwc",
    "outputId": "8d07f7e5-a91e-4f43-8d1d-e505286eaa07"
   },
   "outputs": [],
   "source": [
    "selected_features = ['V4', 'V7', 'V10', 'V11', 'V12', 'V14', 'V16', 'V17']\n",
    "\n",
    "# Create a new dataset with selected features\n",
    "X_selected = pd.DataFrame(X_scaled, columns=X.columns)[selected_features]\n",
    "\n",
    "# Check the new shape of the dataset\n",
    "print(\"Shape of X_selected:\", X_selected.shape)"
   ]
  },
  {
   "cell_type": "code",
   "execution_count": null,
   "metadata": {
    "colab": {
     "base_uri": "https://localhost:8080/"
    },
    "id": "cpGRRX13k5Wl",
    "outputId": "e73ab9c5-8d42-4927-d44c-f63f746db2ee"
   },
   "outputs": [],
   "source": [
    "# Define the selected features\n",
    "selected_features = ['V4', 'V7', 'V10', 'V11', 'V12', 'V14', 'V16', 'V17']\n",
    "\n",
    "# Create a new dataset with selected features\n",
    "X_selected = X[selected_features]\n",
    "\n",
    "# Scale only the selected features\n",
    "scaler = StandardScaler()\n",
    "X_scaled = scaler.fit_transform(X_selected)\n",
    "# Create a new DataFrame with the scaled data, keeping the selected features as columns\n",
    "X_selected_scaled = pd.DataFrame(X_scaled, columns=selected_features)\n",
    "\n",
    "# Split data into train and test sets (80% train, 20% test) BEFORE applying SMOTE\n",
    "X_train, X_test, y_train, y_test = train_test_split(X_selected_scaled, y, test_size=0.2, random_state=42)\n",
    "\n",
    "# Apply SMOTE only to the training set\n",
    "smote = SMOTE(random_state=42)\n",
    "X_train_resampled, y_train_resampled = smote.fit_resample(X_train, y_train)\n",
    "\n",
    "# Now your data is safe for training and evaluation\n",
    "print(f\"Shape of X_train_resampled: {X_train_resampled.shape}\")\n",
    "print(f\"Shape of y_train_resampled: {y_train_resampled.shape}\")\n",
    "print(f\"Shape of X_test: {X_test.shape}\")\n",
    "print(f\"Shape of y_test: {y_test.shape}\")"
   ]
  },
  {
   "cell_type": "code",
   "execution_count": null,
   "metadata": {
    "id": "Uk_ujY3MrvqZ"
   },
   "outputs": [],
   "source": []
  },
  {
   "cell_type": "markdown",
   "metadata": {
    "id": "NY6Gb-TrkWTO"
   },
   "source": [
    "# **Random forest model**"
   ]
  },
  {
   "cell_type": "code",
   "execution_count": null,
   "metadata": {
    "colab": {
     "base_uri": "https://localhost:8080/",
     "height": 697
    },
    "id": "Q4T4a3OyeozC",
    "outputId": "33ba92be-b734-4254-f462-246583be6ed0"
   },
   "outputs": [],
   "source": [
    "# Function to plot confusion matrix\n",
    "def plot_confusion_matrix(y_true, y_pred, model_name):\n",
    "    cm = confusion_matrix(y_true, y_pred)\n",
    "    plt.figure(figsize=(6, 4))\n",
    "    sns.heatmap(cm, annot=True, fmt=\"d\", cmap=\"viridis\", xticklabels=[\"Class 0\", \"Class 1\"], yticklabels=[\"Class 0\", \"Class 1\"])\n",
    "    plt.title(f\"Confusion Matrix for {model_name}\")\n",
    "    plt.xlabel(\"Predicted Labels\")\n",
    "    plt.ylabel(\"True Labels\")\n",
    "    plt.show()\n",
    "\n",
    "# Initialize the Random Forest classifier with class weight adjustment\n",
    "rf_model = RandomForestClassifier(random_state=42, class_weight='balanced', n_jobs=-1)\n",
    "\n",
    "# Train the model on the resampled training data\n",
    "rf_model.fit(X_train_resampled, y_train_resampled)\n",
    "\n",
    "# Predict on the test se\n",
    "y_pred_prob = rf_model.predict_proba(X_test)[:, 1]  # Probabilities for class 1\n",
    "\n",
    "# Get the optimal threshold (e.g., based on maximum F1-score)\n",
    "precision, recall, thresholds = precision_recall_curve(y_test, y_pred_prob)\n",
    "f1_scores = 2 * (precision * recall) / (precision + recall)\n",
    "optimal_threshold = thresholds[np.argmax(f1_scores)]\n",
    "\n",
    "# Make predictions with the optimal threshold\n",
    "y_pred = (y_pred_prob > optimal_threshold).astype(int)\n",
    "\n",
    "# Classification Report\n",
    "print(\"Classification Report:\\n\", classification_report(y_test, y_pred))\n",
    "\n",
    "# Confusion Matrix\n",
    "print(\"Confusion Matrix:\\n\", confusion_matrix(y_test, y_pred))\n",
    "\n",
    "# Print Accuracy\n",
    "accuracy = accuracy_score(y_test, y_pred)\n",
    "print(\"Accuracy:\", accuracy)\n",
    "\n",
    "# Calculate F1-Score and AUC-ROC score\n",
    "f1 = f1_score(y_test, y_pred)\n",
    "roc_auc = roc_auc_score(y_test, y_pred_prob)\n",
    "\n",
    "print(\"F1-Score:\", f1)\n",
    "print(\"ROC AUC Score:\", roc_auc)\n",
    "\n",
    "# Plot Confusion Matrix for Random Forest\n",
    "plot_confusion_matrix(y_test, y_pred, \"Random Forest\")"
   ]
  },
  {
   "cell_type": "markdown",
   "metadata": {
    "id": "itxof8OekNMC"
   },
   "source": [
    "# **XGBoost model**"
   ]
  },
  {
   "cell_type": "code",
   "execution_count": null,
   "metadata": {
    "colab": {
     "base_uri": "https://localhost:8080/",
     "height": 731
    },
    "id": "lqCdbnvViK4A",
    "outputId": "ef1592ea-72ec-4cd1-9c13-4a5db51ad6ee"
   },
   "outputs": [],
   "source": [
    "# Function to plot confusion matrix\n",
    "def plot_confusion_matrix(y_true, y_pred, model_name):\n",
    "    cm = confusion_matrix(y_true, y_pred)\n",
    "    plt.figure(figsize=(6, 4))\n",
    "    sns.heatmap(cm, annot=True, fmt=\"d\", cmap=\"viridis\", xticklabels=[\"Class 0\", \"Class 1\"], yticklabels=[\"Class 0\", \"Class 1\"])\n",
    "    plt.title(f\"Confusion Matrix for {model_name}\")\n",
    "    plt.xlabel(\"Predicted Labels\")\n",
    "    plt.ylabel(\"True Labels\")\n",
    "    plt.show()\n",
    "\n",
    "# Initialize the XGBoost classifier\n",
    "xgb_model = XGBClassifier(use_label_encoder=False, eval_metric=\"logloss\", random_state=42)\n",
    "\n",
    "# Train the model on the resampled training data\n",
    "xgb_model.fit(X_train_resampled, y_train_resampled)\n",
    "\n",
    "# Predict on the test set\n",
    "y_probs = xgb_model.predict_proba(X_test)[:, 1]\n",
    "\n",
    "# Get the optimal threshold\n",
    "precision, recall, thresholds = precision_recall_curve(y_test, y_probs)\n",
    "f1_scores = 2 * (precision * recall) / (precision + recall)\n",
    "optimal_threshold = thresholds[np.argmax(f1_scores)]\n",
    "\n",
    "# Make predictions with the optimal threshold\n",
    "y_pred = (y_probs > optimal_threshold).astype(int)\n",
    "\n",
    "# Classification Report\n",
    "print(\"Classification Report:\\n\", classification_report(y_test, y_pred))\n",
    "\n",
    "# Confusion Matrix\n",
    "print(\"Confusion Matrix:\\n\", confusion_matrix(y_test, y_pred))\n",
    "\n",
    "# Print Accuracy\n",
    "accuracy = accuracy_score(y_test, y_pred)\n",
    "print(\"Accuracy:\", accuracy)\n",
    "\n",
    "# Plot Confusion Matrix for XGBoost\n",
    "plot_confusion_matrix(y_test, y_pred, \"XGBoost\")"
   ]
  },
  {
   "cell_type": "markdown",
   "metadata": {
    "id": "0-9_e5LjkF-R"
   },
   "source": [
    "# **LR classifier**"
   ]
  },
  {
   "cell_type": "code",
   "execution_count": null,
   "metadata": {
    "colab": {
     "base_uri": "https://localhost:8080/",
     "height": 662
    },
    "id": "Yvoe_pm0isru",
    "outputId": "1fac0756-cc4d-4634-8716-a2315c095f39"
   },
   "outputs": [],
   "source": [
    "# Initialize the Logistic Regression model\n",
    "logreg_model = LogisticRegression(random_state=42)\n",
    "\n",
    "# Train the model on the resampled training data\n",
    "logreg_model.fit(X_train_resampled, y_train_resampled)\n",
    "\n",
    "# Predict on the test set\n",
    "y_probs_logreg = logreg_model.predict_proba(X_test)[:, 1]\n",
    "\n",
    "# Get the optimal threshold (e.g., based on maximum F1-score)\n",
    "precision_logreg, recall_logreg, thresholds_logreg = precision_recall_curve(y_test, y_probs_logreg)\n",
    "f1_scores_logreg = 2 * (precision_logreg * recall_logreg) / (precision_logreg + recall_logreg)\n",
    "optimal_threshold_logreg = thresholds_logreg[np.argmax(f1_scores_logreg)]\n",
    "\n",
    "# Make predictions with the optimal threshold\n",
    "y_pred_logreg = (y_probs_logreg > optimal_threshold_logreg).astype(int)\n",
    "\n",
    "# Classification Report\n",
    "print(\"Classification Report (Logistic Regression):\\n\", classification_report(y_test, y_pred_logreg))\n",
    "\n",
    "# Confusion Matrix\n",
    "print(\"Confusion Matrix (Logistic Regression):\\n\", confusion_matrix(y_test, y_pred_logreg))\n",
    "\n",
    "# Print Accuracy\n",
    "accuracy_logreg = accuracy_score(y_test, y_pred_logreg)\n",
    "print(\"Accuracy (Logistic Regression):\", accuracy_logreg)\n",
    "\n",
    "plot_confusion_matrix(y_test, y_pred_logreg, \"Logistic Regression\")"
   ]
  },
  {
   "cell_type": "markdown",
   "metadata": {
    "id": "kNVLKaOIud6G"
   },
   "source": [
    "## **Cross-validation**"
   ]
  },
  {
   "cell_type": "code",
   "execution_count": null,
   "metadata": {
    "colab": {
     "base_uri": "https://localhost:8080/"
    },
    "id": "iq5m0UbsuWM5",
    "outputId": "f1d94c07-c906-4c0a-e735-95f40245d926"
   },
   "outputs": [],
   "source": [
    "# Initialize models\n",
    "rf_model = RandomForestClassifier(random_state=42)\n",
    "xgb_model = XGBClassifier(use_label_encoder=False, eval_metric=\"logloss\", random_state=42)\n",
    "logreg_model = LogisticRegression(random_state=42)\n",
    "\n",
    "# Perform cross-validation\n",
    "rf_scores = cross_val_score(rf_model, X_train, y_train, cv=5)\n",
    "xgb_scores = cross_val_score(xgb_model, X_train, y_train, cv=5)\n",
    "logreg_scores = cross_val_score(logreg_model, X_train, y_train, cv=5)\n",
    "\n",
    "# Print results\n",
    "print(\"Random Forest CV Scores:\", rf_scores)\n",
    "print(\"Random Forest Mean Accuracy:\", rf_scores.mean())\n",
    "\n",
    "print(\"\\nXGBoost CV Scores:\", xgb_scores)\n",
    "print(\"XGBoost Mean Accuracy:\", xgb_scores.mean())\n",
    "\n",
    "print(\"\\nLogistic Regression CV Scores:\", logreg_scores)\n",
    "print(\"Logistic Regression Mean Accuracy:\", logreg_scores.mean())"
   ]
  },
  {
   "cell_type": "code",
   "execution_count": null,
   "metadata": {
    "id": "g0YdkqDNvhYI"
   },
   "outputs": [],
   "source": []
  },
  {
   "cell_type": "markdown",
   "metadata": {
    "id": "GXQfnm7z8ZsM"
   },
   "source": [
    "# **Saving the Models**"
   ]
  },
  {
   "cell_type": "code",
   "execution_count": null,
   "metadata": {
    "colab": {
     "base_uri": "https://localhost:8080/"
    },
    "id": "dSwbjQT7lmAB",
    "outputId": "c211e9de-29e2-44f9-f1b9-6ee277d3ae8c"
   },
   "outputs": [],
   "source": [
    "import joblib\n",
    "\n",
    "# Save the Decision Tree model\n",
    "joblib.dump(rf_model, '/content/rf_model.pkl')\n",
    "\n",
    "# Save the XGBoost model\n",
    "joblib.dump(xgb_model, '/content/xgb_model.pkl')\n",
    "\n",
    "# Save the KNN model\n",
    "joblib.dump(logreg_model, '/content/logreg_model.pkl')\n",
    "\n",
    "print(\"Models saved successfully.\")"
   ]
  },
  {
   "cell_type": "code",
   "execution_count": null,
   "metadata": {
    "colab": {
     "base_uri": "https://localhost:8080/"
    },
    "id": "ed9-7nJmq1Bu",
    "outputId": "d069e38e-c19b-4358-f17b-5297c008b12f"
   },
   "outputs": [],
   "source": [
    "from sklearn.preprocessing import StandardScaler\n",
    "\n",
    "scaler = StandardScaler()\n",
    "\n",
    "# Fit the scaler on your training data\n",
    "scaler.fit(X_train)\n",
    "\n",
    "# Save the scaler\n",
    "joblib.dump(scaler, '/content/scaler.pkl')"
   ]
  },
  {
   "cell_type": "markdown",
   "metadata": {
    "id": "0On5WkMm8FFn"
   },
   "source": [
    "# **Real-Time Fraud Detection Prediction System with Model Selection**"
   ]
  },
  {
   "cell_type": "code",
   "execution_count": null,
   "metadata": {
    "id": "UF_VRFDl0mzp"
   },
   "outputs": [],
   "source": [
    "import ipywidgets as widgets\n",
    "from IPython.display import display\n",
    "\n",
    "# Load the scaler and models\n",
    "scaler = joblib.load('/content/scaler.pkl')\n",
    "rf_model = joblib.load('/content/rf_model.pkl')\n",
    "xgb_model = joblib.load('/content/xgb_model.pkl')\n",
    "logreg_model = joblib.load('/content/logreg_model.pkl')\n",
    "\n",
    "# Selected features used in the model\n",
    "selected_features = ['V4', 'V7', 'V10', 'V11', 'V12', 'V14', 'V16', 'V17']"
   ]
  },
  {
   "cell_type": "code",
   "execution_count": null,
   "metadata": {
    "colab": {
     "base_uri": "https://localhost:8080/",
     "height": 702,
     "referenced_widgets": [
      "2292ff17b2594fd2af2818ba3ca1c439",
      "2348eabba3784a46a39e78796467b3cd",
      "9e8bb779caea400a8411cde057c6e794",
      "87a979d00174424b8db227db713de1bd",
      "1b9ffb7101594e67b464dca47433edb7",
      "587e20b433d94f26bf4f1aeaf1789e10",
      "7e332f5d80cb4102988259c5ada93bab",
      "f9c227c69e424a47a09b0a4f610d5417",
      "2b21fb512f83433cbafd083cf7f005b3",
      "68e05ce272af481aab8067f6757b10d7",
      "b8106cf1d394462fa152e57a2423bf60",
      "8c7c09e2e9ba4c4cbf130f6ae9658d76",
      "25bf57d2435b468c800757a8c24eaaec",
      "6ed2a66bdf1748238b4a26779f837df8",
      "f3cb3333b44d4f5eb04d0dc79e8986ff",
      "77a032bb71194d1da9172ec6720006da",
      "a64a33d05c1444f7934b43f9fa172700",
      "5e3a7e6d8c604f4f918374dd69622750",
      "08c2ccdc18f043de8db94f29bf84f199",
      "764d80762db54d9c83f505ba7d9e9f6a",
      "c018107587044707afd6bb64fc86a9ca",
      "e724d73fd6a449958ad18983168821ca",
      "6086822c7eee4522bd83e76d11f927bc",
      "b1072ae81dcd4d9091aad585358ade5b",
      "4bf1cacff8584502b2b07c91b7210478",
      "465b0b4019554089b22443e2ed19f997",
      "cc0c4c698504484f943c17e62ce4c795",
      "809b1949ba8243bfbc2d5ff388b59975",
      "bf5919bfbdcb4be385bbfe7361ee5318",
      "47b1e942513c4ac7857d0d682979f314",
      "4925b18a898f4ae5a9cd958912a88ff9",
      "264b66a9123c476692312cc48b78ad9b",
      "9a6d6ddffa364f78ac80833c251b143b",
      "9d50194c4d5a44079135cc988913030c",
      "022ee94f5f394222aae0ed38ef2f39cc",
      "3265da5ebea9407aa0ed99a19dd90859",
      "c6895526704b4ec194f9d55a64e92304"
     ]
    },
    "id": "4ViSXb547rft",
    "outputId": "6b318b84-ac8f-41f6-c6e3-4fd545f20a91"
   },
   "outputs": [],
   "source": [
    "import ipywidgets as widgets\n",
    "from IPython.display import display\n",
    "import pandas as pd\n",
    "import joblib\n",
    "\n",
    "# Load the scaler and models\n",
    "scaler = joblib.load('/content/scaler.pkl')\n",
    "rf_model = joblib.load('/content/rf_model.pkl')\n",
    "xgb_model = joblib.load('/content/xgb_model.pkl')\n",
    "logreg_model = joblib.load('/content/logreg_model.pkl')\n",
    "\n",
    "# Selected features used in the model\n",
    "selected_features = ['V4', 'V7', 'V10', 'V11', 'V12', 'V14', 'V16', 'V17']\n",
    "\n",
    "# Input style with better spacing\n",
    "input_style = {'description_width': 'initial'}\n",
    "\n",
    "# Create widgets for user input\n",
    "V4_input = widgets.FloatText(value=0.0, description=\"V4:\", style=input_style, layout=widgets.Layout(width='250px'))\n",
    "V7_input = widgets.FloatText(value=0.0, description=\"V7:\", style=input_style, layout=widgets.Layout(width='250px'))\n",
    "V10_input = widgets.FloatText(value=0.0, description=\"V10:\", style=input_style, layout=widgets.Layout(width='250px'))\n",
    "V11_input = widgets.FloatText(value=0.0, description=\"V11:\", style=input_style, layout=widgets.Layout(width='250px'))\n",
    "V12_input = widgets.FloatText(value=0.0, description=\"V12:\", style=input_style, layout=widgets.Layout(width='250px'))\n",
    "V14_input = widgets.FloatText(value=0.0, description=\"V14:\", style=input_style, layout=widgets.Layout(width='250px'))\n",
    "V16_input = widgets.FloatText(value=0.0, description=\"V16:\", style=input_style, layout=widgets.Layout(width='250px'))\n",
    "V17_input = widgets.FloatText(value=0.0, description=\"V17:\", style=input_style, layout=widgets.Layout(width='250px'))\n",
    "\n",
    "model_choice_widget = widgets.Dropdown(\n",
    "    options=['Random forest', 'XGBoost', 'Logistic Regression'],\n",
    "    value='Random forest',\n",
    "    description='Model:',\n",
    "    style={'description_width': 'initial'},\n",
    "    layout=widgets.Layout(width='250px')\n",
    ")\n",
    "\n",
    "# Output widget to display predictions\n",
    "output = widgets.Output()\n",
    "\n",
    "# Function to display feedback\n",
    "def show_feedback(msg):\n",
    "    with output:\n",
    "        print(f\"<h4 style='color: #FF5722; font-family: Arial, sans-serif;'>{msg}</h4>\")\n",
    "\n",
    "# Function to predict and display results when button is clicked\n",
    "def predict_model(V4, V7, V10, V11, V12, V14, V16, V17, model_choice):\n",
    "    with output:\n",
    "        # Create a dataframe from the input values\n",
    "        input_data = pd.DataFrame({\n",
    "            'V4': [V4],\n",
    "            'V7': [V7],\n",
    "            'V10': [V10],\n",
    "            'V11': [V11],\n",
    "            'V12': [V12],\n",
    "            'V14': [V14],\n",
    "            'V16': [V16],\n",
    "            'V17': [V17]\n",
    "        })\n",
    "\n",
    "        # Ensure input_data is in the same feature order as the model training data\n",
    "        input_data = input_data[selected_features]\n",
    "\n",
    "        # Scale the input data using the fitted scaler\n",
    "        input_data_scaled = scaler.transform(input_data)\n",
    "\n",
    "        # Choose the model based on user input\n",
    "        if model_choice == 'Random forest':\n",
    "            model = rf_model\n",
    "        elif model_choice == 'XGBoost':\n",
    "            model = xgb_model\n",
    "        elif model_choice == 'Logistic Regression':\n",
    "            model = logreg_model\n",
    "\n",
    "        # Make the prediction\n",
    "        prediction = model.predict(input_data_scaled)\n",
    "\n",
    "        # Display the prediction\n",
    "        if prediction[0] == 1:\n",
    "            show_feedback(\"🚨 Prediction: Fraudulent!\")\n",
    "        else:\n",
    "            show_feedback(\"✅ Prediction: Non-fraudulent\")\n",
    "\n",
    "# Function to trigger prediction on button click\n",
    "def on_button_click(b):\n",
    "    # Get the values from the widgets\n",
    "    V4 = V4_input.value\n",
    "    V7 = V7_input.value\n",
    "    V10 = V10_input.value\n",
    "    V11 = V11_input.value\n",
    "    V12 = V12_input.value\n",
    "    V14 = V14_input.value\n",
    "    V16 = V16_input.value\n",
    "    V17 = V17_input.value\n",
    "    model_choice = model_choice_widget.value\n",
    "\n",
    "    # Call the prediction function\n",
    "    predict_model(V4, V7, V10, V11, V12, V14, V16, V17, model_choice)\n",
    "\n",
    "# Create a button for making the prediction\n",
    "predict_button = widgets.Button(description=\"Predict\", button_style='success', layout=widgets.Layout(width='250px'))\n",
    "predict_button.on_click(on_button_click)\n",
    "\n",
    "# Create a heading\n",
    "heading = widgets.HTML(value=\"<h2 style='text-align:center; color:#FF5722; font-family:Arial, sans-serif;'>Fraud Detection Prediction</h2>\")\n",
    "\n",
    "# Customizing the layout of input fields\n",
    "input_widgets = widgets.VBox([heading,\n",
    "                              V4_input, V7_input, V10_input, V11_input, V12_input, V14_input, V16_input, V17_input,\n",
    "                              model_choice_widget, predict_button],\n",
    "                             layout=widgets.Layout(padding='10px', background_color='#F5F5F5', border='2px solid #FF5722'))\n",
    "\n",
    "# Customizing the output area\n",
    "output.layout.height = '150px'\n",
    "output.layout.border = '2px solid #FF5722'\n",
    "output.layout.padding = '10px'\n",
    "output.layout.margin = '10px'\n",
    "output.layout.background_color = '#f9f9f9'\n",
    "\n",
    "# Display the input widgets and output area\n",
    "display(input_widgets, output)\n"
   ]
  },
  {
   "cell_type": "code",
   "execution_count": null,
   "metadata": {
    "id": "cqTrv_gH7uXv"
   },
   "outputs": [],
   "source": []
  }
 ],
 "metadata": {
  "colab": {
   "provenance": []
  },
  "kernelspec": {
   "display_name": "Python 3 (ipykernel)",
   "language": "python",
   "name": "python3"
  },
  "language_info": {
   "codemirror_mode": {
    "name": "ipython",
    "version": 3
   },
   "file_extension": ".py",
   "mimetype": "text/x-python",
   "name": "python",
   "nbconvert_exporter": "python",
   "pygments_lexer": "ipython3",
   "version": "3.11.5"
  },
  "widgets": {
   "application/vnd.jupyter.widget-state+json": {
    "022ee94f5f394222aae0ed38ef2f39cc": {
     "model_module": "@jupyter-widgets/controls",
     "model_module_version": "1.5.0",
     "model_name": "ButtonStyleModel",
     "state": {
      "_model_module": "@jupyter-widgets/controls",
      "_model_module_version": "1.5.0",
      "_model_name": "ButtonStyleModel",
      "_view_count": null,
      "_view_module": "@jupyter-widgets/base",
      "_view_module_version": "1.2.0",
      "_view_name": "StyleView",
      "button_color": null,
      "font_weight": ""
     }
    },
    "08c2ccdc18f043de8db94f29bf84f199": {
     "model_module": "@jupyter-widgets/controls",
     "model_module_version": "1.5.0",
     "model_name": "DescriptionStyleModel",
     "state": {
      "_model_module": "@jupyter-widgets/controls",
      "_model_module_version": "1.5.0",
      "_model_name": "DescriptionStyleModel",
      "_view_count": null,
      "_view_module": "@jupyter-widgets/base",
      "_view_module_version": "1.2.0",
      "_view_name": "StyleView",
      "description_width": "initial"
     }
    },
    "1b9ffb7101594e67b464dca47433edb7": {
     "model_module": "@jupyter-widgets/controls",
     "model_module_version": "1.5.0",
     "model_name": "FloatTextModel",
     "state": {
      "_dom_classes": [],
      "_model_module": "@jupyter-widgets/controls",
      "_model_module_version": "1.5.0",
      "_model_name": "FloatTextModel",
      "_view_count": null,
      "_view_module": "@jupyter-widgets/controls",
      "_view_module_version": "1.5.0",
      "_view_name": "FloatTextView",
      "continuous_update": false,
      "description": "V10:",
      "description_tooltip": null,
      "disabled": false,
      "layout": "IPY_MODEL_764d80762db54d9c83f505ba7d9e9f6a",
      "step": null,
      "style": "IPY_MODEL_c018107587044707afd6bb64fc86a9ca",
      "value": 95
     }
    },
    "2292ff17b2594fd2af2818ba3ca1c439": {
     "model_module": "@jupyter-widgets/controls",
     "model_module_version": "1.5.0",
     "model_name": "VBoxModel",
     "state": {
      "_dom_classes": [],
      "_model_module": "@jupyter-widgets/controls",
      "_model_module_version": "1.5.0",
      "_model_name": "VBoxModel",
      "_view_count": null,
      "_view_module": "@jupyter-widgets/controls",
      "_view_module_version": "1.5.0",
      "_view_name": "VBoxView",
      "box_style": "",
      "children": [
       "IPY_MODEL_2348eabba3784a46a39e78796467b3cd",
       "IPY_MODEL_9e8bb779caea400a8411cde057c6e794",
       "IPY_MODEL_87a979d00174424b8db227db713de1bd",
       "IPY_MODEL_1b9ffb7101594e67b464dca47433edb7",
       "IPY_MODEL_587e20b433d94f26bf4f1aeaf1789e10",
       "IPY_MODEL_7e332f5d80cb4102988259c5ada93bab",
       "IPY_MODEL_f9c227c69e424a47a09b0a4f610d5417",
       "IPY_MODEL_2b21fb512f83433cbafd083cf7f005b3",
       "IPY_MODEL_68e05ce272af481aab8067f6757b10d7",
       "IPY_MODEL_b8106cf1d394462fa152e57a2423bf60",
       "IPY_MODEL_8c7c09e2e9ba4c4cbf130f6ae9658d76"
      ],
      "layout": "IPY_MODEL_25bf57d2435b468c800757a8c24eaaec"
     }
    },
    "2348eabba3784a46a39e78796467b3cd": {
     "model_module": "@jupyter-widgets/controls",
     "model_module_version": "1.5.0",
     "model_name": "HTMLModel",
     "state": {
      "_dom_classes": [],
      "_model_module": "@jupyter-widgets/controls",
      "_model_module_version": "1.5.0",
      "_model_name": "HTMLModel",
      "_view_count": null,
      "_view_module": "@jupyter-widgets/controls",
      "_view_module_version": "1.5.0",
      "_view_name": "HTMLView",
      "description": "",
      "description_tooltip": null,
      "layout": "IPY_MODEL_6ed2a66bdf1748238b4a26779f837df8",
      "placeholder": "​",
      "style": "IPY_MODEL_f3cb3333b44d4f5eb04d0dc79e8986ff",
      "value": "<h2 style='text-align:center; color:#FF5722; font-family:Arial, sans-serif;'>Fraud Detection Prediction</h2>"
     }
    },
    "25bf57d2435b468c800757a8c24eaaec": {
     "model_module": "@jupyter-widgets/base",
     "model_module_version": "1.2.0",
     "model_name": "LayoutModel",
     "state": {
      "_model_module": "@jupyter-widgets/base",
      "_model_module_version": "1.2.0",
      "_model_name": "LayoutModel",
      "_view_count": null,
      "_view_module": "@jupyter-widgets/base",
      "_view_module_version": "1.2.0",
      "_view_name": "LayoutView",
      "align_content": null,
      "align_items": null,
      "align_self": null,
      "border": "2px solid #FF5722",
      "bottom": null,
      "display": null,
      "flex": null,
      "flex_flow": null,
      "grid_area": null,
      "grid_auto_columns": null,
      "grid_auto_flow": null,
      "grid_auto_rows": null,
      "grid_column": null,
      "grid_gap": null,
      "grid_row": null,
      "grid_template_areas": null,
      "grid_template_columns": null,
      "grid_template_rows": null,
      "height": null,
      "justify_content": null,
      "justify_items": null,
      "left": null,
      "margin": null,
      "max_height": null,
      "max_width": null,
      "min_height": null,
      "min_width": null,
      "object_fit": null,
      "object_position": null,
      "order": null,
      "overflow": null,
      "overflow_x": null,
      "overflow_y": null,
      "padding": "10px",
      "right": null,
      "top": null,
      "visibility": null,
      "width": null
     }
    },
    "264b66a9123c476692312cc48b78ad9b": {
     "model_module": "@jupyter-widgets/base",
     "model_module_version": "1.2.0",
     "model_name": "LayoutModel",
     "state": {
      "_model_module": "@jupyter-widgets/base",
      "_model_module_version": "1.2.0",
      "_model_name": "LayoutModel",
      "_view_count": null,
      "_view_module": "@jupyter-widgets/base",
      "_view_module_version": "1.2.0",
      "_view_name": "LayoutView",
      "align_content": null,
      "align_items": null,
      "align_self": null,
      "border": null,
      "bottom": null,
      "display": null,
      "flex": null,
      "flex_flow": null,
      "grid_area": null,
      "grid_auto_columns": null,
      "grid_auto_flow": null,
      "grid_auto_rows": null,
      "grid_column": null,
      "grid_gap": null,
      "grid_row": null,
      "grid_template_areas": null,
      "grid_template_columns": null,
      "grid_template_rows": null,
      "height": null,
      "justify_content": null,
      "justify_items": null,
      "left": null,
      "margin": null,
      "max_height": null,
      "max_width": null,
      "min_height": null,
      "min_width": null,
      "object_fit": null,
      "object_position": null,
      "order": null,
      "overflow": null,
      "overflow_x": null,
      "overflow_y": null,
      "padding": null,
      "right": null,
      "top": null,
      "visibility": null,
      "width": "250px"
     }
    },
    "2b21fb512f83433cbafd083cf7f005b3": {
     "model_module": "@jupyter-widgets/controls",
     "model_module_version": "1.5.0",
     "model_name": "FloatTextModel",
     "state": {
      "_dom_classes": [],
      "_model_module": "@jupyter-widgets/controls",
      "_model_module_version": "1.5.0",
      "_model_name": "FloatTextModel",
      "_view_count": null,
      "_view_module": "@jupyter-widgets/controls",
      "_view_module_version": "1.5.0",
      "_view_name": "FloatTextView",
      "continuous_update": false,
      "description": "V16:",
      "description_tooltip": null,
      "disabled": false,
      "layout": "IPY_MODEL_809b1949ba8243bfbc2d5ff388b59975",
      "step": null,
      "style": "IPY_MODEL_bf5919bfbdcb4be385bbfe7361ee5318",
      "value": 0
     }
    },
    "3265da5ebea9407aa0ed99a19dd90859": {
     "model_module": "@jupyter-widgets/output",
     "model_module_version": "1.0.0",
     "model_name": "OutputModel",
     "state": {
      "_dom_classes": [],
      "_model_module": "@jupyter-widgets/output",
      "_model_module_version": "1.0.0",
      "_model_name": "OutputModel",
      "_view_count": null,
      "_view_module": "@jupyter-widgets/output",
      "_view_module_version": "1.0.0",
      "_view_name": "OutputView",
      "layout": "IPY_MODEL_c6895526704b4ec194f9d55a64e92304",
      "msg_id": "",
      "outputs": [
       {
        "name": "stderr",
        "output_type": "stream",
        "text": [
         "/usr/local/lib/python3.11/dist-packages/sklearn/utils/validation.py:2739: UserWarning: X does not have valid feature names, but RandomForestClassifier was fitted with feature names\n",
         "  warnings.warn(\n"
        ]
       },
       {
        "name": "stdout",
        "output_type": "stream",
        "text": [
         "<h4 style='color: #FF5722; font-family: Arial, sans-serif;'>✅ Prediction: Non-fraudulent</h4>\n"
        ]
       },
       {
        "name": "stdout",
        "output_type": "stream",
        "text": [
         "<h4 style='color: #FF5722; font-family: Arial, sans-serif;'>✅ Prediction: Non-fraudulent</h4>\n"
        ]
       },
       {
        "name": "stderr",
        "output_type": "stream",
        "text": [
         "/usr/local/lib/python3.11/dist-packages/sklearn/utils/validation.py:2739: UserWarning: X does not have valid feature names, but LogisticRegression was fitted with feature names\n",
         "  warnings.warn(\n"
        ]
       },
       {
        "name": "stdout",
        "output_type": "stream",
        "text": [
         "<h4 style='color: #FF5722; font-family: Arial, sans-serif;'>✅ Prediction: Non-fraudulent</h4>\n"
        ]
       },
       {
        "name": "stderr",
        "output_type": "stream",
        "text": [
         "/usr/local/lib/python3.11/dist-packages/sklearn/utils/validation.py:2739: UserWarning: X does not have valid feature names, but LogisticRegression was fitted with feature names\n",
         "  warnings.warn(\n"
        ]
       },
       {
        "name": "stdout",
        "output_type": "stream",
        "text": [
         "<h4 style='color: #FF5722; font-family: Arial, sans-serif;'>✅ Prediction: Non-fraudulent</h4>\n"
        ]
       },
       {
        "name": "stderr",
        "output_type": "stream",
        "text": [
         "/usr/local/lib/python3.11/dist-packages/sklearn/utils/validation.py:2739: UserWarning: X does not have valid feature names, but LogisticRegression was fitted with feature names\n",
         "  warnings.warn(\n"
        ]
       },
       {
        "name": "stdout",
        "output_type": "stream",
        "text": [
         "<h4 style='color: #FF5722; font-family: Arial, sans-serif;'>✅ Prediction: Non-fraudulent</h4>\n"
        ]
       },
       {
        "name": "stderr",
        "output_type": "stream",
        "text": [
         "/usr/local/lib/python3.11/dist-packages/sklearn/utils/validation.py:2739: UserWarning: X does not have valid feature names, but RandomForestClassifier was fitted with feature names\n",
         "  warnings.warn(\n"
        ]
       },
       {
        "name": "stdout",
        "output_type": "stream",
        "text": [
         "<h4 style='color: #FF5722; font-family: Arial, sans-serif;'>✅ Prediction: Non-fraudulent</h4>\n"
        ]
       }
      ]
     }
    },
    "465b0b4019554089b22443e2ed19f997": {
     "model_module": "@jupyter-widgets/base",
     "model_module_version": "1.2.0",
     "model_name": "LayoutModel",
     "state": {
      "_model_module": "@jupyter-widgets/base",
      "_model_module_version": "1.2.0",
      "_model_name": "LayoutModel",
      "_view_count": null,
      "_view_module": "@jupyter-widgets/base",
      "_view_module_version": "1.2.0",
      "_view_name": "LayoutView",
      "align_content": null,
      "align_items": null,
      "align_self": null,
      "border": null,
      "bottom": null,
      "display": null,
      "flex": null,
      "flex_flow": null,
      "grid_area": null,
      "grid_auto_columns": null,
      "grid_auto_flow": null,
      "grid_auto_rows": null,
      "grid_column": null,
      "grid_gap": null,
      "grid_row": null,
      "grid_template_areas": null,
      "grid_template_columns": null,
      "grid_template_rows": null,
      "height": null,
      "justify_content": null,
      "justify_items": null,
      "left": null,
      "margin": null,
      "max_height": null,
      "max_width": null,
      "min_height": null,
      "min_width": null,
      "object_fit": null,
      "object_position": null,
      "order": null,
      "overflow": null,
      "overflow_x": null,
      "overflow_y": null,
      "padding": null,
      "right": null,
      "top": null,
      "visibility": null,
      "width": "250px"
     }
    },
    "47b1e942513c4ac7857d0d682979f314": {
     "model_module": "@jupyter-widgets/base",
     "model_module_version": "1.2.0",
     "model_name": "LayoutModel",
     "state": {
      "_model_module": "@jupyter-widgets/base",
      "_model_module_version": "1.2.0",
      "_model_name": "LayoutModel",
      "_view_count": null,
      "_view_module": "@jupyter-widgets/base",
      "_view_module_version": "1.2.0",
      "_view_name": "LayoutView",
      "align_content": null,
      "align_items": null,
      "align_self": null,
      "border": null,
      "bottom": null,
      "display": null,
      "flex": null,
      "flex_flow": null,
      "grid_area": null,
      "grid_auto_columns": null,
      "grid_auto_flow": null,
      "grid_auto_rows": null,
      "grid_column": null,
      "grid_gap": null,
      "grid_row": null,
      "grid_template_areas": null,
      "grid_template_columns": null,
      "grid_template_rows": null,
      "height": null,
      "justify_content": null,
      "justify_items": null,
      "left": null,
      "margin": null,
      "max_height": null,
      "max_width": null,
      "min_height": null,
      "min_width": null,
      "object_fit": null,
      "object_position": null,
      "order": null,
      "overflow": null,
      "overflow_x": null,
      "overflow_y": null,
      "padding": null,
      "right": null,
      "top": null,
      "visibility": null,
      "width": "250px"
     }
    },
    "4925b18a898f4ae5a9cd958912a88ff9": {
     "model_module": "@jupyter-widgets/controls",
     "model_module_version": "1.5.0",
     "model_name": "DescriptionStyleModel",
     "state": {
      "_model_module": "@jupyter-widgets/controls",
      "_model_module_version": "1.5.0",
      "_model_name": "DescriptionStyleModel",
      "_view_count": null,
      "_view_module": "@jupyter-widgets/base",
      "_view_module_version": "1.2.0",
      "_view_name": "StyleView",
      "description_width": "initial"
     }
    },
    "4bf1cacff8584502b2b07c91b7210478": {
     "model_module": "@jupyter-widgets/controls",
     "model_module_version": "1.5.0",
     "model_name": "DescriptionStyleModel",
     "state": {
      "_model_module": "@jupyter-widgets/controls",
      "_model_module_version": "1.5.0",
      "_model_name": "DescriptionStyleModel",
      "_view_count": null,
      "_view_module": "@jupyter-widgets/base",
      "_view_module_version": "1.2.0",
      "_view_name": "StyleView",
      "description_width": "initial"
     }
    },
    "587e20b433d94f26bf4f1aeaf1789e10": {
     "model_module": "@jupyter-widgets/controls",
     "model_module_version": "1.5.0",
     "model_name": "FloatTextModel",
     "state": {
      "_dom_classes": [],
      "_model_module": "@jupyter-widgets/controls",
      "_model_module_version": "1.5.0",
      "_model_name": "FloatTextModel",
      "_view_count": null,
      "_view_module": "@jupyter-widgets/controls",
      "_view_module_version": "1.5.0",
      "_view_name": "FloatTextView",
      "continuous_update": false,
      "description": "V11:",
      "description_tooltip": null,
      "disabled": false,
      "layout": "IPY_MODEL_e724d73fd6a449958ad18983168821ca",
      "step": null,
      "style": "IPY_MODEL_6086822c7eee4522bd83e76d11f927bc",
      "value": 0
     }
    },
    "5e3a7e6d8c604f4f918374dd69622750": {
     "model_module": "@jupyter-widgets/base",
     "model_module_version": "1.2.0",
     "model_name": "LayoutModel",
     "state": {
      "_model_module": "@jupyter-widgets/base",
      "_model_module_version": "1.2.0",
      "_model_name": "LayoutModel",
      "_view_count": null,
      "_view_module": "@jupyter-widgets/base",
      "_view_module_version": "1.2.0",
      "_view_name": "LayoutView",
      "align_content": null,
      "align_items": null,
      "align_self": null,
      "border": null,
      "bottom": null,
      "display": null,
      "flex": null,
      "flex_flow": null,
      "grid_area": null,
      "grid_auto_columns": null,
      "grid_auto_flow": null,
      "grid_auto_rows": null,
      "grid_column": null,
      "grid_gap": null,
      "grid_row": null,
      "grid_template_areas": null,
      "grid_template_columns": null,
      "grid_template_rows": null,
      "height": null,
      "justify_content": null,
      "justify_items": null,
      "left": null,
      "margin": null,
      "max_height": null,
      "max_width": null,
      "min_height": null,
      "min_width": null,
      "object_fit": null,
      "object_position": null,
      "order": null,
      "overflow": null,
      "overflow_x": null,
      "overflow_y": null,
      "padding": null,
      "right": null,
      "top": null,
      "visibility": null,
      "width": "250px"
     }
    },
    "6086822c7eee4522bd83e76d11f927bc": {
     "model_module": "@jupyter-widgets/controls",
     "model_module_version": "1.5.0",
     "model_name": "DescriptionStyleModel",
     "state": {
      "_model_module": "@jupyter-widgets/controls",
      "_model_module_version": "1.5.0",
      "_model_name": "DescriptionStyleModel",
      "_view_count": null,
      "_view_module": "@jupyter-widgets/base",
      "_view_module_version": "1.2.0",
      "_view_name": "StyleView",
      "description_width": "initial"
     }
    },
    "68e05ce272af481aab8067f6757b10d7": {
     "model_module": "@jupyter-widgets/controls",
     "model_module_version": "1.5.0",
     "model_name": "FloatTextModel",
     "state": {
      "_dom_classes": [],
      "_model_module": "@jupyter-widgets/controls",
      "_model_module_version": "1.5.0",
      "_model_name": "FloatTextModel",
      "_view_count": null,
      "_view_module": "@jupyter-widgets/controls",
      "_view_module_version": "1.5.0",
      "_view_name": "FloatTextView",
      "continuous_update": false,
      "description": "V17:",
      "description_tooltip": null,
      "disabled": false,
      "layout": "IPY_MODEL_47b1e942513c4ac7857d0d682979f314",
      "step": null,
      "style": "IPY_MODEL_4925b18a898f4ae5a9cd958912a88ff9",
      "value": 93898
     }
    },
    "6ed2a66bdf1748238b4a26779f837df8": {
     "model_module": "@jupyter-widgets/base",
     "model_module_version": "1.2.0",
     "model_name": "LayoutModel",
     "state": {
      "_model_module": "@jupyter-widgets/base",
      "_model_module_version": "1.2.0",
      "_model_name": "LayoutModel",
      "_view_count": null,
      "_view_module": "@jupyter-widgets/base",
      "_view_module_version": "1.2.0",
      "_view_name": "LayoutView",
      "align_content": null,
      "align_items": null,
      "align_self": null,
      "border": null,
      "bottom": null,
      "display": null,
      "flex": null,
      "flex_flow": null,
      "grid_area": null,
      "grid_auto_columns": null,
      "grid_auto_flow": null,
      "grid_auto_rows": null,
      "grid_column": null,
      "grid_gap": null,
      "grid_row": null,
      "grid_template_areas": null,
      "grid_template_columns": null,
      "grid_template_rows": null,
      "height": null,
      "justify_content": null,
      "justify_items": null,
      "left": null,
      "margin": null,
      "max_height": null,
      "max_width": null,
      "min_height": null,
      "min_width": null,
      "object_fit": null,
      "object_position": null,
      "order": null,
      "overflow": null,
      "overflow_x": null,
      "overflow_y": null,
      "padding": null,
      "right": null,
      "top": null,
      "visibility": null,
      "width": null
     }
    },
    "764d80762db54d9c83f505ba7d9e9f6a": {
     "model_module": "@jupyter-widgets/base",
     "model_module_version": "1.2.0",
     "model_name": "LayoutModel",
     "state": {
      "_model_module": "@jupyter-widgets/base",
      "_model_module_version": "1.2.0",
      "_model_name": "LayoutModel",
      "_view_count": null,
      "_view_module": "@jupyter-widgets/base",
      "_view_module_version": "1.2.0",
      "_view_name": "LayoutView",
      "align_content": null,
      "align_items": null,
      "align_self": null,
      "border": null,
      "bottom": null,
      "display": null,
      "flex": null,
      "flex_flow": null,
      "grid_area": null,
      "grid_auto_columns": null,
      "grid_auto_flow": null,
      "grid_auto_rows": null,
      "grid_column": null,
      "grid_gap": null,
      "grid_row": null,
      "grid_template_areas": null,
      "grid_template_columns": null,
      "grid_template_rows": null,
      "height": null,
      "justify_content": null,
      "justify_items": null,
      "left": null,
      "margin": null,
      "max_height": null,
      "max_width": null,
      "min_height": null,
      "min_width": null,
      "object_fit": null,
      "object_position": null,
      "order": null,
      "overflow": null,
      "overflow_x": null,
      "overflow_y": null,
      "padding": null,
      "right": null,
      "top": null,
      "visibility": null,
      "width": "250px"
     }
    },
    "77a032bb71194d1da9172ec6720006da": {
     "model_module": "@jupyter-widgets/base",
     "model_module_version": "1.2.0",
     "model_name": "LayoutModel",
     "state": {
      "_model_module": "@jupyter-widgets/base",
      "_model_module_version": "1.2.0",
      "_model_name": "LayoutModel",
      "_view_count": null,
      "_view_module": "@jupyter-widgets/base",
      "_view_module_version": "1.2.0",
      "_view_name": "LayoutView",
      "align_content": null,
      "align_items": null,
      "align_self": null,
      "border": null,
      "bottom": null,
      "display": null,
      "flex": null,
      "flex_flow": null,
      "grid_area": null,
      "grid_auto_columns": null,
      "grid_auto_flow": null,
      "grid_auto_rows": null,
      "grid_column": null,
      "grid_gap": null,
      "grid_row": null,
      "grid_template_areas": null,
      "grid_template_columns": null,
      "grid_template_rows": null,
      "height": null,
      "justify_content": null,
      "justify_items": null,
      "left": null,
      "margin": null,
      "max_height": null,
      "max_width": null,
      "min_height": null,
      "min_width": null,
      "object_fit": null,
      "object_position": null,
      "order": null,
      "overflow": null,
      "overflow_x": null,
      "overflow_y": null,
      "padding": null,
      "right": null,
      "top": null,
      "visibility": null,
      "width": "250px"
     }
    },
    "7e332f5d80cb4102988259c5ada93bab": {
     "model_module": "@jupyter-widgets/controls",
     "model_module_version": "1.5.0",
     "model_name": "FloatTextModel",
     "state": {
      "_dom_classes": [],
      "_model_module": "@jupyter-widgets/controls",
      "_model_module_version": "1.5.0",
      "_model_name": "FloatTextModel",
      "_view_count": null,
      "_view_module": "@jupyter-widgets/controls",
      "_view_module_version": "1.5.0",
      "_view_name": "FloatTextView",
      "continuous_update": false,
      "description": "V12:",
      "description_tooltip": null,
      "disabled": false,
      "layout": "IPY_MODEL_b1072ae81dcd4d9091aad585358ade5b",
      "step": null,
      "style": "IPY_MODEL_4bf1cacff8584502b2b07c91b7210478",
      "value": 347859
     }
    },
    "809b1949ba8243bfbc2d5ff388b59975": {
     "model_module": "@jupyter-widgets/base",
     "model_module_version": "1.2.0",
     "model_name": "LayoutModel",
     "state": {
      "_model_module": "@jupyter-widgets/base",
      "_model_module_version": "1.2.0",
      "_model_name": "LayoutModel",
      "_view_count": null,
      "_view_module": "@jupyter-widgets/base",
      "_view_module_version": "1.2.0",
      "_view_name": "LayoutView",
      "align_content": null,
      "align_items": null,
      "align_self": null,
      "border": null,
      "bottom": null,
      "display": null,
      "flex": null,
      "flex_flow": null,
      "grid_area": null,
      "grid_auto_columns": null,
      "grid_auto_flow": null,
      "grid_auto_rows": null,
      "grid_column": null,
      "grid_gap": null,
      "grid_row": null,
      "grid_template_areas": null,
      "grid_template_columns": null,
      "grid_template_rows": null,
      "height": null,
      "justify_content": null,
      "justify_items": null,
      "left": null,
      "margin": null,
      "max_height": null,
      "max_width": null,
      "min_height": null,
      "min_width": null,
      "object_fit": null,
      "object_position": null,
      "order": null,
      "overflow": null,
      "overflow_x": null,
      "overflow_y": null,
      "padding": null,
      "right": null,
      "top": null,
      "visibility": null,
      "width": "250px"
     }
    },
    "87a979d00174424b8db227db713de1bd": {
     "model_module": "@jupyter-widgets/controls",
     "model_module_version": "1.5.0",
     "model_name": "FloatTextModel",
     "state": {
      "_dom_classes": [],
      "_model_module": "@jupyter-widgets/controls",
      "_model_module_version": "1.5.0",
      "_model_name": "FloatTextModel",
      "_view_count": null,
      "_view_module": "@jupyter-widgets/controls",
      "_view_module_version": "1.5.0",
      "_view_name": "FloatTextView",
      "continuous_update": false,
      "description": "V7:",
      "description_tooltip": null,
      "disabled": false,
      "layout": "IPY_MODEL_5e3a7e6d8c604f4f918374dd69622750",
      "step": null,
      "style": "IPY_MODEL_08c2ccdc18f043de8db94f29bf84f199",
      "value": 48857
     }
    },
    "8c7c09e2e9ba4c4cbf130f6ae9658d76": {
     "model_module": "@jupyter-widgets/controls",
     "model_module_version": "1.5.0",
     "model_name": "ButtonModel",
     "state": {
      "_dom_classes": [],
      "_model_module": "@jupyter-widgets/controls",
      "_model_module_version": "1.5.0",
      "_model_name": "ButtonModel",
      "_view_count": null,
      "_view_module": "@jupyter-widgets/controls",
      "_view_module_version": "1.5.0",
      "_view_name": "ButtonView",
      "button_style": "success",
      "description": "Predict",
      "disabled": false,
      "icon": "",
      "layout": "IPY_MODEL_9d50194c4d5a44079135cc988913030c",
      "style": "IPY_MODEL_022ee94f5f394222aae0ed38ef2f39cc",
      "tooltip": ""
     }
    },
    "9a6d6ddffa364f78ac80833c251b143b": {
     "model_module": "@jupyter-widgets/controls",
     "model_module_version": "1.5.0",
     "model_name": "DescriptionStyleModel",
     "state": {
      "_model_module": "@jupyter-widgets/controls",
      "_model_module_version": "1.5.0",
      "_model_name": "DescriptionStyleModel",
      "_view_count": null,
      "_view_module": "@jupyter-widgets/base",
      "_view_module_version": "1.2.0",
      "_view_name": "StyleView",
      "description_width": "initial"
     }
    },
    "9d50194c4d5a44079135cc988913030c": {
     "model_module": "@jupyter-widgets/base",
     "model_module_version": "1.2.0",
     "model_name": "LayoutModel",
     "state": {
      "_model_module": "@jupyter-widgets/base",
      "_model_module_version": "1.2.0",
      "_model_name": "LayoutModel",
      "_view_count": null,
      "_view_module": "@jupyter-widgets/base",
      "_view_module_version": "1.2.0",
      "_view_name": "LayoutView",
      "align_content": null,
      "align_items": null,
      "align_self": null,
      "border": null,
      "bottom": null,
      "display": null,
      "flex": null,
      "flex_flow": null,
      "grid_area": null,
      "grid_auto_columns": null,
      "grid_auto_flow": null,
      "grid_auto_rows": null,
      "grid_column": null,
      "grid_gap": null,
      "grid_row": null,
      "grid_template_areas": null,
      "grid_template_columns": null,
      "grid_template_rows": null,
      "height": null,
      "justify_content": null,
      "justify_items": null,
      "left": null,
      "margin": null,
      "max_height": null,
      "max_width": null,
      "min_height": null,
      "min_width": null,
      "object_fit": null,
      "object_position": null,
      "order": null,
      "overflow": null,
      "overflow_x": null,
      "overflow_y": null,
      "padding": null,
      "right": null,
      "top": null,
      "visibility": null,
      "width": "250px"
     }
    },
    "9e8bb779caea400a8411cde057c6e794": {
     "model_module": "@jupyter-widgets/controls",
     "model_module_version": "1.5.0",
     "model_name": "FloatTextModel",
     "state": {
      "_dom_classes": [],
      "_model_module": "@jupyter-widgets/controls",
      "_model_module_version": "1.5.0",
      "_model_name": "FloatTextModel",
      "_view_count": null,
      "_view_module": "@jupyter-widgets/controls",
      "_view_module_version": "1.5.0",
      "_view_name": "FloatTextView",
      "continuous_update": false,
      "description": "V4:",
      "description_tooltip": null,
      "disabled": false,
      "layout": "IPY_MODEL_77a032bb71194d1da9172ec6720006da",
      "step": null,
      "style": "IPY_MODEL_a64a33d05c1444f7934b43f9fa172700",
      "value": 38
     }
    },
    "a64a33d05c1444f7934b43f9fa172700": {
     "model_module": "@jupyter-widgets/controls",
     "model_module_version": "1.5.0",
     "model_name": "DescriptionStyleModel",
     "state": {
      "_model_module": "@jupyter-widgets/controls",
      "_model_module_version": "1.5.0",
      "_model_name": "DescriptionStyleModel",
      "_view_count": null,
      "_view_module": "@jupyter-widgets/base",
      "_view_module_version": "1.2.0",
      "_view_name": "StyleView",
      "description_width": "initial"
     }
    },
    "b1072ae81dcd4d9091aad585358ade5b": {
     "model_module": "@jupyter-widgets/base",
     "model_module_version": "1.2.0",
     "model_name": "LayoutModel",
     "state": {
      "_model_module": "@jupyter-widgets/base",
      "_model_module_version": "1.2.0",
      "_model_name": "LayoutModel",
      "_view_count": null,
      "_view_module": "@jupyter-widgets/base",
      "_view_module_version": "1.2.0",
      "_view_name": "LayoutView",
      "align_content": null,
      "align_items": null,
      "align_self": null,
      "border": null,
      "bottom": null,
      "display": null,
      "flex": null,
      "flex_flow": null,
      "grid_area": null,
      "grid_auto_columns": null,
      "grid_auto_flow": null,
      "grid_auto_rows": null,
      "grid_column": null,
      "grid_gap": null,
      "grid_row": null,
      "grid_template_areas": null,
      "grid_template_columns": null,
      "grid_template_rows": null,
      "height": null,
      "justify_content": null,
      "justify_items": null,
      "left": null,
      "margin": null,
      "max_height": null,
      "max_width": null,
      "min_height": null,
      "min_width": null,
      "object_fit": null,
      "object_position": null,
      "order": null,
      "overflow": null,
      "overflow_x": null,
      "overflow_y": null,
      "padding": null,
      "right": null,
      "top": null,
      "visibility": null,
      "width": "250px"
     }
    },
    "b8106cf1d394462fa152e57a2423bf60": {
     "model_module": "@jupyter-widgets/controls",
     "model_module_version": "1.5.0",
     "model_name": "DropdownModel",
     "state": {
      "_dom_classes": [],
      "_model_module": "@jupyter-widgets/controls",
      "_model_module_version": "1.5.0",
      "_model_name": "DropdownModel",
      "_options_labels": [
       "Random forest",
       "XGBoost",
       "Logistic Regression"
      ],
      "_view_count": null,
      "_view_module": "@jupyter-widgets/controls",
      "_view_module_version": "1.5.0",
      "_view_name": "DropdownView",
      "description": "Model:",
      "description_tooltip": null,
      "disabled": false,
      "index": 0,
      "layout": "IPY_MODEL_264b66a9123c476692312cc48b78ad9b",
      "style": "IPY_MODEL_9a6d6ddffa364f78ac80833c251b143b"
     }
    },
    "bf5919bfbdcb4be385bbfe7361ee5318": {
     "model_module": "@jupyter-widgets/controls",
     "model_module_version": "1.5.0",
     "model_name": "DescriptionStyleModel",
     "state": {
      "_model_module": "@jupyter-widgets/controls",
      "_model_module_version": "1.5.0",
      "_model_name": "DescriptionStyleModel",
      "_view_count": null,
      "_view_module": "@jupyter-widgets/base",
      "_view_module_version": "1.2.0",
      "_view_name": "StyleView",
      "description_width": "initial"
     }
    },
    "c018107587044707afd6bb64fc86a9ca": {
     "model_module": "@jupyter-widgets/controls",
     "model_module_version": "1.5.0",
     "model_name": "DescriptionStyleModel",
     "state": {
      "_model_module": "@jupyter-widgets/controls",
      "_model_module_version": "1.5.0",
      "_model_name": "DescriptionStyleModel",
      "_view_count": null,
      "_view_module": "@jupyter-widgets/base",
      "_view_module_version": "1.2.0",
      "_view_name": "StyleView",
      "description_width": "initial"
     }
    },
    "c6895526704b4ec194f9d55a64e92304": {
     "model_module": "@jupyter-widgets/base",
     "model_module_version": "1.2.0",
     "model_name": "LayoutModel",
     "state": {
      "_model_module": "@jupyter-widgets/base",
      "_model_module_version": "1.2.0",
      "_model_name": "LayoutModel",
      "_view_count": null,
      "_view_module": "@jupyter-widgets/base",
      "_view_module_version": "1.2.0",
      "_view_name": "LayoutView",
      "align_content": null,
      "align_items": null,
      "align_self": null,
      "border": "2px solid #FF5722",
      "bottom": null,
      "display": null,
      "flex": null,
      "flex_flow": null,
      "grid_area": null,
      "grid_auto_columns": null,
      "grid_auto_flow": null,
      "grid_auto_rows": null,
      "grid_column": null,
      "grid_gap": null,
      "grid_row": null,
      "grid_template_areas": null,
      "grid_template_columns": null,
      "grid_template_rows": null,
      "height": "150px",
      "justify_content": null,
      "justify_items": null,
      "left": null,
      "margin": "10px",
      "max_height": null,
      "max_width": null,
      "min_height": null,
      "min_width": null,
      "object_fit": null,
      "object_position": null,
      "order": null,
      "overflow": null,
      "overflow_x": null,
      "overflow_y": null,
      "padding": "10px",
      "right": null,
      "top": null,
      "visibility": null,
      "width": null
     }
    },
    "cc0c4c698504484f943c17e62ce4c795": {
     "model_module": "@jupyter-widgets/controls",
     "model_module_version": "1.5.0",
     "model_name": "DescriptionStyleModel",
     "state": {
      "_model_module": "@jupyter-widgets/controls",
      "_model_module_version": "1.5.0",
      "_model_name": "DescriptionStyleModel",
      "_view_count": null,
      "_view_module": "@jupyter-widgets/base",
      "_view_module_version": "1.2.0",
      "_view_name": "StyleView",
      "description_width": "initial"
     }
    },
    "e724d73fd6a449958ad18983168821ca": {
     "model_module": "@jupyter-widgets/base",
     "model_module_version": "1.2.0",
     "model_name": "LayoutModel",
     "state": {
      "_model_module": "@jupyter-widgets/base",
      "_model_module_version": "1.2.0",
      "_model_name": "LayoutModel",
      "_view_count": null,
      "_view_module": "@jupyter-widgets/base",
      "_view_module_version": "1.2.0",
      "_view_name": "LayoutView",
      "align_content": null,
      "align_items": null,
      "align_self": null,
      "border": null,
      "bottom": null,
      "display": null,
      "flex": null,
      "flex_flow": null,
      "grid_area": null,
      "grid_auto_columns": null,
      "grid_auto_flow": null,
      "grid_auto_rows": null,
      "grid_column": null,
      "grid_gap": null,
      "grid_row": null,
      "grid_template_areas": null,
      "grid_template_columns": null,
      "grid_template_rows": null,
      "height": null,
      "justify_content": null,
      "justify_items": null,
      "left": null,
      "margin": null,
      "max_height": null,
      "max_width": null,
      "min_height": null,
      "min_width": null,
      "object_fit": null,
      "object_position": null,
      "order": null,
      "overflow": null,
      "overflow_x": null,
      "overflow_y": null,
      "padding": null,
      "right": null,
      "top": null,
      "visibility": null,
      "width": "250px"
     }
    },
    "f3cb3333b44d4f5eb04d0dc79e8986ff": {
     "model_module": "@jupyter-widgets/controls",
     "model_module_version": "1.5.0",
     "model_name": "DescriptionStyleModel",
     "state": {
      "_model_module": "@jupyter-widgets/controls",
      "_model_module_version": "1.5.0",
      "_model_name": "DescriptionStyleModel",
      "_view_count": null,
      "_view_module": "@jupyter-widgets/base",
      "_view_module_version": "1.2.0",
      "_view_name": "StyleView",
      "description_width": ""
     }
    },
    "f9c227c69e424a47a09b0a4f610d5417": {
     "model_module": "@jupyter-widgets/controls",
     "model_module_version": "1.5.0",
     "model_name": "FloatTextModel",
     "state": {
      "_dom_classes": [],
      "_model_module": "@jupyter-widgets/controls",
      "_model_module_version": "1.5.0",
      "_model_name": "FloatTextModel",
      "_view_count": null,
      "_view_module": "@jupyter-widgets/controls",
      "_view_module_version": "1.5.0",
      "_view_name": "FloatTextView",
      "continuous_update": false,
      "description": "V14:",
      "description_tooltip": null,
      "disabled": false,
      "layout": "IPY_MODEL_465b0b4019554089b22443e2ed19f997",
      "step": null,
      "style": "IPY_MODEL_cc0c4c698504484f943c17e62ce4c795",
      "value": 0
     }
    }
   }
  }
 },
 "nbformat": 4,
 "nbformat_minor": 1
}
